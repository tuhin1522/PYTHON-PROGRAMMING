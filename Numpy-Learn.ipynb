{
 "cells": [
  {
   "cell_type": "code",
   "execution_count": 3,
   "id": "b6fa71d9-6dd5-49b3-8796-2a0063329f5c",
   "metadata": {},
   "outputs": [
    {
     "name": "stdout",
     "output_type": "stream",
     "text": [
      "[10 20 30]\n"
     ]
    }
   ],
   "source": [
    "import numpy as np\n",
    "a = np.array([10,20,30])\n",
    "print(a)"
   ]
  },
  {
   "cell_type": "markdown",
   "id": "e0b96a0b-baf3-4a2e-b8cd-56a80de545ad",
   "metadata": {},
   "source": [
    "# Creation, Indexing, and Slicing of Numpy Arrays"
   ]
  },
  {
   "cell_type": "code",
   "execution_count": 11,
   "id": "ad97e00a-1057-4c32-85f1-db360eaa8157",
   "metadata": {},
   "outputs": [
    {
     "name": "stdout",
     "output_type": "stream",
     "text": [
      "[[1 2 3 4]\n",
      " [5 6 7 8]\n",
      " [9 8 7 6]]\n"
     ]
    }
   ],
   "source": [
    "a = np.array([[1,2,3,4],[5,6,7,8],[9,8,7,6]])\n",
    "print(a)"
   ]
  },
  {
   "cell_type": "code",
   "execution_count": 12,
   "id": "cc0001a9-2bca-4085-afdd-2f762e7e2606",
   "metadata": {},
   "outputs": [
    {
     "name": "stdout",
     "output_type": "stream",
     "text": [
      "7\n"
     ]
    }
   ],
   "source": [
    "print(a[1][2])"
   ]
  },
  {
   "cell_type": "code",
   "execution_count": 13,
   "id": "e3677ab6-9fef-4c7f-9a00-d8b6392b9e09",
   "metadata": {},
   "outputs": [
    {
     "name": "stdout",
     "output_type": "stream",
     "text": [
      "[10 20 30]\n"
     ]
    }
   ],
   "source": [
    "a = np.array([10,20,30,40,50])\n",
    "print(a[0:3])"
   ]
  },
  {
   "cell_type": "code",
   "execution_count": 16,
   "id": "5997feb9-570e-4d49-9f29-c526c5252388",
   "metadata": {},
   "outputs": [
    {
     "name": "stdout",
     "output_type": "stream",
     "text": [
      "[[1 2]\n",
      " [5 6]]\n"
     ]
    }
   ],
   "source": [
    "a = np.array([[1,2,3,4],[5,6,7,8],[9,8,7,6]])\n",
    "print(a[0:2,0:2])"
   ]
  },
  {
   "cell_type": "code",
   "execution_count": 17,
   "id": "240849b2-9d4e-4e7c-b0b8-613f26fcff38",
   "metadata": {},
   "outputs": [
    {
     "name": "stdout",
     "output_type": "stream",
     "text": [
      "[2 3]\n"
     ]
    }
   ],
   "source": [
    "a = np.array([[1,2,3,4],[5,6,7,8],[9,8,7,6]])\n",
    "print(a[0,1:3])"
   ]
  },
  {
   "cell_type": "markdown",
   "id": "f7777600-c76d-4e10-b38e-9eda62b834c9",
   "metadata": {},
   "source": [
    "# inspecting an Array"
   ]
  },
  {
   "cell_type": "code",
   "execution_count": 25,
   "id": "6f7bac54-a0e1-4926-8a9e-4821320a62cd",
   "metadata": {},
   "outputs": [
    {
     "name": "stdout",
     "output_type": "stream",
     "text": [
      "(3, 4)\n",
      "12\n",
      "2\n",
      "3\n",
      "int64\n",
      "[[1. 2. 3. 4.]\n",
      " [5. 6. 7. 8.]\n",
      " [9. 8. 7. 6.]]\n"
     ]
    }
   ],
   "source": [
    "a = np.array([[1,2,3,4],[5,6,7,8],[9,8,7,6]])\n",
    "print(np.shape(a)) #rows, columns\n",
    "print(np.size(a)) # number of elements \n",
    "print(np.ndim(a)) #numbers of dimensions\n",
    "print(len(a)) #numbers of nested values\n",
    "print(a.dtype) #datatypes of array\n",
    "print(a.astype(float)) #convertion of datatypes"
   ]
  },
  {
   "cell_type": "markdown",
   "id": "82140c83-2cac-4a53-9ba2-dc895b235a4a",
   "metadata": {},
   "source": [
    "# Mathematical Operations and Functions on Arrays"
   ]
  },
  {
   "cell_type": "code",
   "execution_count": 29,
   "id": "5d8026d9-dad5-4589-985a-9d2373e0a2a8",
   "metadata": {},
   "outputs": [
    {
     "name": "stdout",
     "output_type": "stream",
     "text": [
      "[[ 6  8]\n",
      " [10 12]]\n",
      "[[ 6  8]\n",
      " [10 12]]\n"
     ]
    }
   ],
   "source": [
    "a = np.array([[1,2],[3,4]])\n",
    "b = np.array([[5,6],[7,8]])\n",
    "print(a + b)\n",
    "print(np.add(a,b))"
   ]
  },
  {
   "cell_type": "code",
   "execution_count": 31,
   "id": "344a178d-ff2b-4133-a166-b6a0fb041e18",
   "metadata": {},
   "outputs": [
    {
     "name": "stdout",
     "output_type": "stream",
     "text": [
      "[[-4 -4]\n",
      " [-4 -4]]\n",
      "[[-4 -4]\n",
      " [-4 -4]]\n"
     ]
    }
   ],
   "source": [
    "a = np.array([[1,2],[3,4]])\n",
    "b = np.array([[5,6],[7,8]])\n",
    "print(a - b)\n",
    "print(np.subtract(a,b))"
   ]
  },
  {
   "cell_type": "code",
   "execution_count": 32,
   "id": "b8bb4083-406a-4966-8720-fed11a0b48e7",
   "metadata": {},
   "outputs": [
    {
     "name": "stdout",
     "output_type": "stream",
     "text": [
      "[[ 5 12]\n",
      " [21 32]]\n",
      "[[ 5 12]\n",
      " [21 32]]\n"
     ]
    }
   ],
   "source": [
    "a = np.array([[1,2],[3,4]])\n",
    "b = np.array([[5,6],[7,8]])\n",
    "print(a * b)\n",
    "print(np.multiply(a,b))"
   ]
  },
  {
   "cell_type": "code",
   "execution_count": null,
   "id": "18f4da98-73f5-439d-90fe-f16165408953",
   "metadata": {},
   "outputs": [],
   "source": [
    "a = np.array([[1,2],[3,4]])\n",
    "b = np.array([[5,6],[7,8]])\n",
    "print(a / b)\n",
    "print(np.devided(a,b))"
   ]
  },
  {
   "cell_type": "code",
   "execution_count": 34,
   "id": "4b610c67-7d51-47f2-a52f-2ed588f0ba24",
   "metadata": {},
   "outputs": [
    {
     "name": "stdout",
     "output_type": "stream",
     "text": [
      "[ 1  8 27 64]\n"
     ]
    }
   ],
   "source": [
    "a = np.array([1,2,3,4])\n",
    "b = np.array([3])\n",
    "print(np.power(a,b))"
   ]
  },
  {
   "cell_type": "code",
   "execution_count": 38,
   "id": "cdab2143-ef73-47ce-837d-6a9cef812990",
   "metadata": {},
   "outputs": [
    {
     "name": "stdout",
     "output_type": "stream",
     "text": [
      "[1.         1.41421356 1.73205081 2.        ]\n"
     ]
    }
   ],
   "source": [
    "a = np.array([1,2,3,4])\n",
    "print(np.sqrt(a))"
   ]
  },
  {
   "cell_type": "markdown",
   "id": "46b4bc64-c7fa-4892-bad5-af027b62ba72",
   "metadata": {},
   "source": [
    "# Combining and Splitting Arrays"
   ]
  },
  {
   "cell_type": "code",
   "execution_count": 1,
   "id": "785b8ed5-e5a8-4457-b779-a5cd6c60fbdb",
   "metadata": {},
   "outputs": [
    {
     "name": "stdout",
     "output_type": "stream",
     "text": [
      "[1, 2, 3, 2, 3, 4]\n"
     ]
    }
   ],
   "source": [
    "a = [1,2,3]\n",
    "b = [2,3,4]\n",
    "print(a+b)"
   ]
  },
  {
   "cell_type": "code",
   "execution_count": 6,
   "id": "5e94671a-a97a-4815-a79b-6d8ce58c2b93",
   "metadata": {},
   "outputs": [
    {
     "name": "stdout",
     "output_type": "stream",
     "text": [
      "[1 2 3 5 6 7]\n"
     ]
    }
   ],
   "source": [
    "#concatenate\n",
    "import numpy as np\n",
    "a = np.array([1,2,3])\n",
    "b = np.array([5,6,7])\n",
    "print(np.concatenate([a,b]))"
   ]
  },
  {
   "cell_type": "code",
   "execution_count": 7,
   "id": "660032ed-8c82-405b-8286-aa1000f95450",
   "metadata": {},
   "outputs": [
    {
     "name": "stdout",
     "output_type": "stream",
     "text": [
      "[1 2 3 5 6 7]\n"
     ]
    }
   ],
   "source": [
    "print(np.concatenate([a,b],axis = 0))"
   ]
  },
  {
   "cell_type": "code",
   "execution_count": 10,
   "id": "84aadc5d-1369-4d6c-b1f5-e5717bd009fb",
   "metadata": {},
   "outputs": [
    {
     "name": "stdout",
     "output_type": "stream",
     "text": [
      "[[1 2 3]\n",
      " [4 5 6]\n",
      " [5 6 7]\n",
      " [1 2 3]]\n"
     ]
    }
   ],
   "source": [
    "a = np.array([[1,2,3],[4,5,6]])\n",
    "b = np.array([[5,6,7],[1,2,3]])\n",
    "print(np.concatenate([a,b],axis = 0))"
   ]
  },
  {
   "cell_type": "code",
   "execution_count": 11,
   "id": "40df4dd1-4226-4105-8461-9e0f906a9bf1",
   "metadata": {},
   "outputs": [
    {
     "name": "stdout",
     "output_type": "stream",
     "text": [
      "[[1 2 3 5 6 7]\n",
      " [4 5 6 1 2 3]]\n"
     ]
    }
   ],
   "source": [
    "a = np.array([[1,2,3],[4,5,6]])\n",
    "b = np.array([[5,6,7],[1,2,3]])\n",
    "print(np.concatenate([a,b],axis = 1))"
   ]
  },
  {
   "cell_type": "code",
   "execution_count": 13,
   "id": "fc14fe5e-d847-4f83-afe9-7246c0a70db0",
   "metadata": {},
   "outputs": [
    {
     "name": "stdout",
     "output_type": "stream",
     "text": [
      "[[1 2 3 5 6 7]\n",
      " [4 5 6 1 2 3]]\n"
     ]
    }
   ],
   "source": [
    "a = np.array([[1,2,3],[4,5,6]])\n",
    "b = np.array([[5,6,7],[1,2,3]])\n",
    "print(np.hstack([a,b])) #horizontal concatenation"
   ]
  },
  {
   "cell_type": "code",
   "execution_count": 14,
   "id": "b0284f31-9f6c-4f44-906c-ec239b56dae0",
   "metadata": {},
   "outputs": [
    {
     "name": "stdout",
     "output_type": "stream",
     "text": [
      "[[1 2 3]\n",
      " [4 5 6]\n",
      " [5 6 7]\n",
      " [1 2 3]]\n"
     ]
    }
   ],
   "source": [
    "a = np.array([[1,2,3],[4,5,6]])\n",
    "b = np.array([[5,6,7],[1,2,3]])\n",
    "print(np.vstack([a,b])) #vertical concatenation"
   ]
  },
  {
   "cell_type": "code",
   "execution_count": 15,
   "id": "1cc77980-e7dd-4f56-a763-2c9433e944e5",
   "metadata": {},
   "outputs": [
    {
     "name": "stdout",
     "output_type": "stream",
     "text": [
      "[3 4]\n"
     ]
    }
   ],
   "source": [
    "a = np.array([1,2,3,4,5,6])\n",
    "b = np.array_split(a,3)\n",
    "print(b[1])"
   ]
  },
  {
   "cell_type": "markdown",
   "id": "28d3d480-d065-4ca6-926f-9bcd67f7b298",
   "metadata": {},
   "source": [
    "# Adding and Removing Elements in the Arrays"
   ]
  },
  {
   "cell_type": "code",
   "execution_count": 19,
   "id": "aafc329a-9379-4500-b7d0-a7d8bdf8d5d2",
   "metadata": {},
   "outputs": [
    {
     "name": "stdout",
     "output_type": "stream",
     "text": [
      "[1 2 3 4 5 6 9]\n",
      "[ 1  2  3  4  5  6  8 10]\n"
     ]
    }
   ],
   "source": [
    "a = np.array([[1,2,3],[4,5,6]])\n",
    "#b = np.array([[5,6,7],[1,2,3]])\n",
    "print(np.append(a,9))\n",
    "print(np.append(a,[8,10]))"
   ]
  },
  {
   "cell_type": "code",
   "execution_count": 20,
   "id": "ed853717-4266-4905-87ee-732b0bcca04c",
   "metadata": {},
   "outputs": [
    {
     "name": "stdout",
     "output_type": "stream",
     "text": [
      "[ 1  2 11  3  4  5  6  9]\n"
     ]
    }
   ],
   "source": [
    "a = np.array([1, 2, 3, 4, 5, 6, 9])\n",
    "print(np.insert(a,2,11)) #array, index, value"
   ]
  },
  {
   "cell_type": "code",
   "execution_count": 21,
   "id": "881178a6-5e97-4bb7-a27d-4454e34e13f1",
   "metadata": {},
   "outputs": [
    {
     "name": "stdout",
     "output_type": "stream",
     "text": [
      "[[ 1  2  3]\n",
      " [12 12 12]\n",
      " [ 4  5  6]\n",
      " [12 12 12]]\n"
     ]
    }
   ],
   "source": [
    "a = np.array([[1,2,3],[4,5,6]])\n",
    "print(np.insert(a,[1,2],[12],axis = 0))"
   ]
  },
  {
   "cell_type": "code",
   "execution_count": 22,
   "id": "d4487733-d223-4e4f-b28e-ed34b0842d08",
   "metadata": {},
   "outputs": [
    {
     "name": "stdout",
     "output_type": "stream",
     "text": [
      "[1 3 4 5 6]\n"
     ]
    }
   ],
   "source": [
    "print(np.delete(a,1))"
   ]
  },
  {
   "cell_type": "markdown",
   "id": "48ee9465-53a6-46a6-8a4f-0d11bec5e3ad",
   "metadata": {},
   "source": [
    "# Search, Sort, and Filter Arrays"
   ]
  },
  {
   "cell_type": "code",
   "execution_count": 24,
   "id": "0d7f4942-d45c-4683-94da-451af2c82eab",
   "metadata": {},
   "outputs": [
    {
     "name": "stdout",
     "output_type": "stream",
     "text": [
      "[[ 2  3  5  6 12]\n",
      " [ 2  3  4  5  6]]\n"
     ]
    }
   ],
   "source": [
    "a = np.array([[5,3,2,12,6],[5,4,3,2,6]])\n",
    "print(np.sort(a))"
   ]
  },
  {
   "cell_type": "code",
   "execution_count": 27,
   "id": "561786fa-e83b-4c57-b2a0-103f1c923445",
   "metadata": {},
   "outputs": [
    {
     "name": "stdout",
     "output_type": "stream",
     "text": [
      "5\n"
     ]
    }
   ],
   "source": [
    "a = np.array([2,3,4,5,6,7,8])\n",
    "s = np.where(a==6)\n",
    "ss =  np.searchsorted(a,7)\n",
    "print(ss)"
   ]
  },
  {
   "cell_type": "code",
   "execution_count": 29,
   "id": "c3af1f3d-8704-4300-8542-84cb556bd5a7",
   "metadata": {},
   "outputs": [
    {
     "name": "stdout",
     "output_type": "stream",
     "text": [
      "[3 5 7]\n"
     ]
    }
   ],
   "source": [
    "a = np.array([2,3,4,5,6,7,8])\n",
    "#fl = [True, True, False, False, True, False, False]\n",
    "fl = a%2==1\n",
    "new = a[fl]\n",
    "print(new)"
   ]
  },
  {
   "cell_type": "markdown",
   "id": "6d165ce0-90f0-4c28-95b1-2efaac597c6e",
   "metadata": {},
   "source": [
    "# Aggregating Functions in Arrays"
   ]
  },
  {
   "cell_type": "code",
   "execution_count": 32,
   "id": "233073a6-8c90-4a9d-a16d-44f31e7399e5",
   "metadata": {},
   "outputs": [
    {
     "name": "stdout",
     "output_type": "stream",
     "text": [
      "35\n",
      "2\n",
      "8\n",
      "5.0\n",
      "[ 2  5  9 14 20 27 35]\n",
      "[    2     6    24   120   720  5040 40320]\n"
     ]
    }
   ],
   "source": [
    "a = np.array([2,3,4,5,6,7,8])\n",
    "print(np.sum(a))\n",
    "print(np.min(a))\n",
    "print(np.max(a))\n",
    "print(np.mean(a))\n",
    "print(np.cumsum(a))\n",
    "print(np.cumprod(a))"
   ]
  },
  {
   "cell_type": "code",
   "execution_count": 40,
   "id": "b626e827-8513-4396-b202-1dcab29e5563",
   "metadata": {},
   "outputs": [
    {
     "name": "stdout",
     "output_type": "stream",
     "text": [
      "[100 150 199 200 250 130] [10 40 20 50 60 30]\n",
      "1029\n",
      "171.5\n",
      "[[  100   150   199   200   250   130]\n",
      " [ 1000  6000  3980 10000 15000  3900]]\n",
      "39880\n"
     ]
    }
   ],
   "source": [
    "a = [100,150,199, 200, 250, 130]\n",
    "b = [10, 40, 20, 50, 60, 30]\n",
    "\n",
    "price = np.array(a)\n",
    "quantity = np.array(b)\n",
    "print(price, quantity)\n",
    "print(np.sum(price))\n",
    "print(np.mean(price))\n",
    "cum = np.cumprod([price, quantity],axis = 0)\n",
    "print(cum)\n",
    "print(cum[1].sum())\n"
   ]
  },
  {
   "cell_type": "markdown",
   "id": "3f313804-ac89-4caf-aebb-dbdf1c043a82",
   "metadata": {},
   "source": [
    "# Statistical Functions in Arrays"
   ]
  },
  {
   "cell_type": "code",
   "execution_count": 47,
   "id": "891fc9d4-64c5-4f4c-a69c-d010eec31d78",
   "metadata": {},
   "outputs": [
    {
     "name": "stdout",
     "output_type": "stream",
     "text": [
      "202.25\n",
      "194.0\n",
      "200\n",
      "55.68157235567257\n",
      "3100.4375\n"
     ]
    }
   ],
   "source": [
    "import statistics as stats\n",
    "baked_food = [200, 300, 150, 130, 200, 280, 170, 188]\n",
    "a = np.array(baked_food)\n",
    "print(np.mean(baked_food)) #sum of all the values/number of values\n",
    "print(np.median(baked_food)) #central value after sorting\n",
    "print(stats.mode(baked_food))\n",
    "print(np.std(baked_food))\n",
    "print(np.var(baked_food))"
   ]
  },
  {
   "cell_type": "code",
   "execution_count": 49,
   "id": "3b571cdc-ee9d-4679-a882-b86bdad6a49b",
   "metadata": {},
   "outputs": [
    {
     "name": "stdout",
     "output_type": "stream",
     "text": [
      "[[1.         0.99015454]\n",
      " [0.99015454 1.        ]]\n"
     ]
    }
   ],
   "source": [
    "tobacco_consumption = [30, 50, 10, 30, 50, 40]\n",
    "deaths = [100, 120, 70, 100, 120, 112]\n",
    "print(np.corrcoef([tobacco_consumption, deaths]))"
   ]
  },
  {
   "cell_type": "code",
   "execution_count": null,
   "id": "ac0b210c-104a-4704-bd54-bc0e04908532",
   "metadata": {},
   "outputs": [],
   "source": []
  }
 ],
 "metadata": {
  "kernelspec": {
   "display_name": "Python 3 (ipykernel)",
   "language": "python",
   "name": "python3"
  },
  "language_info": {
   "codemirror_mode": {
    "name": "ipython",
    "version": 3
   },
   "file_extension": ".py",
   "mimetype": "text/x-python",
   "name": "python",
   "nbconvert_exporter": "python",
   "pygments_lexer": "ipython3",
   "version": "3.11.7"
  }
 },
 "nbformat": 4,
 "nbformat_minor": 5
}
